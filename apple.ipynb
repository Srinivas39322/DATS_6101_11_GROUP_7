{
 "cells": [
  {
   "cell_type": "code",
   "execution_count": 10,
   "metadata": {},
   "outputs": [
    {
     "data": {
      "text/plain": [
       "Index(['App_Id', 'App_Name', 'AppStore_Url', 'Primary_Genre', 'Content_Rating',\n",
       "       'Size_Bytes', 'Required_IOS_Version', 'Released', 'Updated', 'Version',\n",
       "       'Price', 'Currency', 'Free', 'DeveloperId', 'Developer',\n",
       "       'Developer_Url', 'Developer_Website', 'Average_User_Rating', 'Reviews',\n",
       "       'Current_Version_Score', 'Current_Version_Reviews'],\n",
       "      dtype='object')"
      ]
     },
     "execution_count": 10,
     "metadata": {},
     "output_type": "execute_result"
    }
   ],
   "source": [
    "import pandas as pd\n",
    "import numpy as np\n",
    "import datetime as dt\n",
    "df = pd.read_csv('appleAppData.csv')\n",
    "df.head(3)\n",
    "df.columns"
   ]
  },
  {
   "cell_type": "code",
   "execution_count": 11,
   "metadata": {},
   "outputs": [
    {
     "data": {
      "text/plain": [
       "1.0"
      ]
     },
     "execution_count": 11,
     "metadata": {},
     "output_type": "execute_result"
    }
   ],
   "source": [
    "df.App_Id.nunique()/df.shape[0]"
   ]
  },
  {
   "cell_type": "code",
   "execution_count": 12,
   "metadata": {},
   "outputs": [
    {
     "data": {
      "text/plain": [
       "App_Id                          0\n",
       "App_Name                        1\n",
       "AppStore_Url                    0\n",
       "Primary_Genre                   0\n",
       "Content_Rating                  0\n",
       "Size_Bytes                    224\n",
       "Required_IOS_Version            0\n",
       "Released                        3\n",
       "Updated                         0\n",
       "Version                         0\n",
       "Price                         490\n",
       "Currency                        0\n",
       "Free                            0\n",
       "DeveloperId                     0\n",
       "Developer                       0\n",
       "Developer_Url                1109\n",
       "Developer_Website          643988\n",
       "Average_User_Rating             0\n",
       "Reviews                         0\n",
       "Current_Version_Score           0\n",
       "Current_Version_Reviews         0\n",
       "dtype: int64"
      ]
     },
     "execution_count": 12,
     "metadata": {},
     "output_type": "execute_result"
    }
   ],
   "source": [
    "df.isnull().sum()"
   ]
  },
  {
   "cell_type": "code",
   "execution_count": 13,
   "metadata": {},
   "outputs": [
    {
     "data": {
      "text/plain": [
       "Index(['App_Id', 'App_Name', 'AppStore_Url', 'Primary_Genre', 'Content_Rating',\n",
       "       'Size_Bytes', 'Required_IOS_Version', 'Released', 'Updated', 'Version',\n",
       "       'Price', 'Currency', 'Free', 'DeveloperId', 'Developer',\n",
       "       'Developer_Url', 'Average_User_Rating', 'Reviews',\n",
       "       'Current_Version_Score', 'Current_Version_Reviews'],\n",
       "      dtype='object')"
      ]
     },
     "execution_count": 13,
     "metadata": {},
     "output_type": "execute_result"
    }
   ],
   "source": [
    "df.drop(['Developer_Website'], axis=1, inplace=True)\n",
    "df.columns"
   ]
  },
  {
   "cell_type": "code",
   "execution_count": 14,
   "metadata": {},
   "outputs": [
    {
     "data": {
      "text/plain": [
       "App_Id                      object\n",
       "App_Name                    object\n",
       "AppStore_Url                object\n",
       "Primary_Genre               object\n",
       "Content_Rating              object\n",
       "Size_Bytes                 float64\n",
       "Required_IOS_Version        object\n",
       "Released                    object\n",
       "Updated                     object\n",
       "Version                     object\n",
       "Price                      float64\n",
       "Currency                    object\n",
       "Free                          bool\n",
       "DeveloperId                  int64\n",
       "Developer                   object\n",
       "Developer_Url               object\n",
       "Average_User_Rating        float64\n",
       "Reviews                      int64\n",
       "Current_Version_Score      float64\n",
       "Current_Version_Reviews      int64\n",
       "dtype: object"
      ]
     },
     "execution_count": 14,
     "metadata": {},
     "output_type": "execute_result"
    }
   ],
   "source": [
    "df.dtypes"
   ]
  },
  {
   "cell_type": "code",
   "execution_count": 15,
   "metadata": {},
   "outputs": [
    {
     "data": {
      "text/plain": [
       "0          2017-09-28T03:02:41Z\n",
       "1          2015-08-31T19:31:32Z\n",
       "2          2021-04-14T07:00:00Z\n",
       "3          2012-02-10T03:40:07Z\n",
       "4          2020-12-16T08:00:00Z\n",
       "                   ...         \n",
       "1230371    2020-07-07T07:00:00Z\n",
       "1230372    2019-02-12T10:10:13Z\n",
       "1230373    2018-10-17T04:22:41Z\n",
       "1230374    2021-02-20T08:00:00Z\n",
       "1230375    2018-06-05T07:45:41Z\n",
       "Name: Released, Length: 1230376, dtype: object"
      ]
     },
     "execution_count": 15,
     "metadata": {},
     "output_type": "execute_result"
    }
   ],
   "source": [
    "df['Released']"
   ]
  },
  {
   "cell_type": "code",
   "execution_count": 18,
   "metadata": {},
   "outputs": [
    {
     "data": {
      "text/plain": [
       "App_Id                                  object\n",
       "App_Name                                object\n",
       "AppStore_Url                            object\n",
       "Primary_Genre                           object\n",
       "Content_Rating                          object\n",
       "Size_Bytes                             float64\n",
       "Required_IOS_Version                    object\n",
       "Released                   datetime64[ns, UTC]\n",
       "Updated                                 object\n",
       "Version                                 object\n",
       "Price                                  float64\n",
       "Currency                                object\n",
       "Free                                      bool\n",
       "DeveloperId                              int64\n",
       "Developer                               object\n",
       "Developer_Url                           object\n",
       "Average_User_Rating                    float64\n",
       "Reviews                                  int64\n",
       "Current_Version_Score                  float64\n",
       "Current_Version_Reviews                  int64\n",
       "dtype: object"
      ]
     },
     "execution_count": 18,
     "metadata": {},
     "output_type": "execute_result"
    }
   ],
   "source": [
    "df['Released'] = pd.to_datetime(df['Released'], format=\"%Y-%m-%dT%H:%M:%S.%f\")\n",
    "df.dtypes"
   ]
  },
  {
   "cell_type": "code",
   "execution_count": null,
   "metadata": {},
   "outputs": [],
   "source": []
  }
 ],
 "metadata": {
  "kernelspec": {
   "display_name": "base",
   "language": "python",
   "name": "python3"
  },
  "language_info": {
   "codemirror_mode": {
    "name": "ipython",
    "version": 3
   },
   "file_extension": ".py",
   "mimetype": "text/x-python",
   "name": "python",
   "nbconvert_exporter": "python",
   "pygments_lexer": "ipython3",
   "version": "3.11.4"
  }
 },
 "nbformat": 4,
 "nbformat_minor": 2
}
